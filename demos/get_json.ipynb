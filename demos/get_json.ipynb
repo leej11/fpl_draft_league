{
 "cells": [
  {
   "cell_type": "code",
   "execution_count": 1,
   "metadata": {},
   "outputs": [],
   "source": [
    "import sys\n",
    "sys.path.append(\"../\") # Enables importing from parent directory\n",
    "import utils"
   ]
  },
  {
   "cell_type": "code",
   "execution_count": 4,
   "metadata": {},
   "outputs": [
    {
     "name": "stdin",
     "output_type": "stream",
     "text": [
      "Enter Password:  ·········\n"
     ]
    }
   ],
   "source": [
    "files = ['../data/transactions.json',\n",
    "         '../data/elemnts.json',\n",
    "         '../data/details.json']\n",
    "\n",
    "\n",
    "apis = ['https://draft.premierleague.com/api/draft/league/38996/transactions',\n",
    "       'https://draft.premierleague.com/api/bootstrap-static',\n",
    "       'https://draft.premierleague.com/api/league/38996/details']\n",
    "\n",
    "utils.get_json(files, apis, 'lee.gower17@gmail.com')"
   ]
  }
 ],
 "metadata": {
  "kernelspec": {
   "display_name": "Python 3",
   "language": "python",
   "name": "python3"
  },
  "language_info": {
   "codemirror_mode": {
    "name": "ipython",
    "version": 3
   },
   "file_extension": ".py",
   "mimetype": "text/x-python",
   "name": "python",
   "nbconvert_exporter": "python",
   "pygments_lexer": "ipython3",
   "version": "3.7.3"
  }
 },
 "nbformat": 4,
 "nbformat_minor": 2
}
